{
 "cells": [
  {
   "cell_type": "code",
   "execution_count": 1,
   "id": "9d57070e-3dc4-46df-83bc-36e2d3204322",
   "metadata": {},
   "outputs": [],
   "source": [
    "import torch\n",
    "from torch import nn\n",
    "from torch.utils.data import DataLoader\n",
    "from torchvision import datasets\n",
    "from torchvision.transforms import ToTensor"
   ]
  },
  {
   "cell_type": "code",
   "execution_count": 2,
   "id": "0dab63b3-27ba-4651-8c87-ab0d41ae36c4",
   "metadata": {},
   "outputs": [],
   "source": [
    "#downloading the training data\n",
    "training_data= datasets.FashionMNIST(root=\"data\", train=True, download =True, transform=ToTensor())"
   ]
  },
  {
   "cell_type": "code",
   "execution_count": 3,
   "id": "f431c2f6-13fb-447c-923f-80f6498ba29f",
   "metadata": {},
   "outputs": [],
   "source": [
    "test_data=datasets.FashionMNIST(root=\"data\",train=False, download= True, transform =ToTensor())"
   ]
  },
  {
   "cell_type": "code",
   "execution_count": 4,
   "id": "d6c5de59-66e3-45c8-8488-dcfab705a8e4",
   "metadata": {},
   "outputs": [
    {
     "name": "stdout",
     "output_type": "stream",
     "text": [
      "shape of X [N,C,H,W]:torch.Size([64, 1, 28, 28])\n",
      "shape of y: torch.Size([64]) torch.int64\n"
     ]
    }
   ],
   "source": [
    "batch_size=64\n",
    "train_loader=DataLoader(training_data, batch_size=batch_size)\n",
    "test_loader=DataLoader(test_data, batch_size=batch_size)\n",
    "for X,y in test_loader:\n",
    "    print(f\"shape of X [N,C,H,W]:{X.shape}\")\n",
    "    print(f\"shape of y: {y.shape} {y.dtype}\")\n",
    "    break"
   ]
  },
  {
   "cell_type": "code",
   "execution_count": 28,
   "id": "ebd103e0-4015-4c92-a8db-101cedac33a9",
   "metadata": {},
   "outputs": [
    {
     "name": "stdout",
     "output_type": "stream",
     "text": [
      "using {device} device\n",
      "NNetwork(\n",
      "  (flatten): Flatten(start_dim=1, end_dim=-1)\n",
      "  (lrstack): Sequential(\n",
      "    (0): Linear(in_features=784, out_features=512, bias=True)\n",
      "    (1): ReLU()\n",
      "    (2): Linear(in_features=512, out_features=512, bias=True)\n",
      "    (3): ReLU()\n",
      "    (4): Linear(in_features=512, out_features=512, bias=True)\n",
      "    (5): ReLU()\n",
      "    (6): Linear(in_features=512, out_features=10, bias=True)\n",
      "  )\n",
      ")\n"
     ]
    }
   ],
   "source": [
    "device=(\"cuda\" if torch.cuda.is_available() else \"cpu\")\n",
    "print(\"using {device} device\")\n",
    "class NNetwork(nn.Module):\n",
    "    def __init__(self):\n",
    "        super().__init__()\n",
    "        self.flatten=nn.Flatten()\n",
    "        self.lrstack=nn.Sequential(nn.Linear(28*28,512),nn.ReLU(),nn.Linear(512,512), nn.ReLU(),nn.Linear(512,512), nn.ReLU(),nn.Linear(512,10))\n",
    "    def forward(self,x):\n",
    "        x=self.flatten(x)\n",
    "        logits=self.lrstack(x)\n",
    "        return logits\n",
    "model=NNetwork().to(device)\n",
    "print(model)"
   ]
  },
  {
   "cell_type": "code",
   "execution_count": 29,
   "id": "1a17e15d-1032-4a05-b71c-cfaae7b6e718",
   "metadata": {},
   "outputs": [],
   "source": [
    "lossfn=nn.CrossEntropyLoss()\n",
    "\n",
    "optimizer= torch.optim.Adam(model.parameters(), lr=1e-3)"
   ]
  },
  {
   "cell_type": "code",
   "execution_count": 30,
   "id": "c7c78853-567e-44b4-8bbf-f76f50e0f1d5",
   "metadata": {},
   "outputs": [],
   "source": [
    "def train(dataloader,model,  lossfn, optimizer):\n",
    "    size=len(dataloader.dataset)\n",
    "    model.train()\n",
    "    for batch, (X,y) in enumerate(dataloader):\n",
    "        X,y=X.to(device),y.to(device)\n",
    "        pred=model(X)\n",
    "        loss=lossfn(pred,y)\n",
    "        loss.backward()\n",
    "        optimizer.step()\n",
    "        optimizer.zero_grad()\n",
    "        if batch %100 ==0:\n",
    "            loss,current=loss.item(),(batch + 1)*len(X)\n",
    "            print(f\"loss: {loss:>7f} [{current:>5d}/{size: >5d}]\" )\n",
    "            "
   ]
  },
  {
   "cell_type": "code",
   "execution_count": 31,
   "id": "31767edd-1700-4562-8550-c23d38d958e5",
   "metadata": {},
   "outputs": [],
   "source": [
    "def test(dataloader, model, lossfn):\n",
    "    size=len(dataloader.dataset)\n",
    "    num_batches=len(dataloader)\n",
    "    model.eval()\n",
    "    test_loss,correct=0,0\n",
    "    with torch.no_grad():\n",
    "        for X,y in dataloader:\n",
    "            X,y=X.to(device),y.to(device)\n",
    "            pred=model(X)\n",
    "            testloss=lossfn(pred,y).item()\n",
    "            correct+=(pred.argmax(1)==y).type(torch.float).sum().item()\n",
    "        testloss/=num_batches\n",
    "        correct/=size\n",
    "        print(f\"test accuracy \\n accuracy {(100*correct):>0.1f}%, avg_loss: {testloss:>8f}\\n\")"
   ]
  },
  {
   "cell_type": "code",
   "execution_count": null,
   "id": "19919393-294b-4347-bb24-240eb364b86d",
   "metadata": {},
   "outputs": [
    {
     "name": "stdout",
     "output_type": "stream",
     "text": [
      "Epoch 1\n",
      "-------------------------------\n",
      "loss: 2.302819 [   64/60000]\n",
      "loss: 0.570744 [ 6464/60000]\n",
      "loss: 0.439343 [12864/60000]\n",
      "loss: 0.505735 [19264/60000]\n",
      "loss: 0.593849 [25664/60000]\n",
      "loss: 0.431428 [32064/60000]\n",
      "loss: 0.432754 [38464/60000]\n",
      "loss: 0.522378 [44864/60000]\n",
      "loss: 0.507286 [51264/60000]\n",
      "loss: 0.501687 [57664/60000]\n",
      "test accuracy \n",
      " accuracy 84.6%, avg_loss: 0.001525\n",
      "\n",
      "Epoch 2\n",
      "-------------------------------\n",
      "loss: 0.278987 [   64/60000]\n",
      "loss: 0.370292 [ 6464/60000]\n",
      "loss: 0.283166 [12864/60000]\n",
      "loss: 0.364155 [19264/60000]\n",
      "loss: 0.521654 [25664/60000]\n",
      "loss: 0.369076 [32064/60000]\n",
      "loss: 0.294671 [38464/60000]\n",
      "loss: 0.507705 [44864/60000]\n",
      "loss: 0.427833 [51264/60000]\n",
      "loss: 0.466593 [57664/60000]\n",
      "test accuracy \n",
      " accuracy 84.4%, avg_loss: 0.001258\n",
      "\n",
      "Epoch 3\n",
      "-------------------------------\n",
      "loss: 0.267472 [   64/60000]\n",
      "loss: 0.315883 [ 6464/60000]\n",
      "loss: 0.239612 [12864/60000]\n",
      "loss: 0.315798 [19264/60000]\n",
      "loss: 0.401068 [25664/60000]\n",
      "loss: 0.334614 [32064/60000]\n",
      "loss: 0.278379 [38464/60000]\n",
      "loss: 0.459939 [44864/60000]\n",
      "loss: 0.396517 [51264/60000]\n",
      "loss: 0.405140 [57664/60000]\n",
      "test accuracy \n",
      " accuracy 85.1%, avg_loss: 0.001163\n",
      "\n",
      "Epoch 4\n",
      "-------------------------------\n",
      "loss: 0.252707 [   64/60000]\n",
      "loss: 0.336962 [ 6464/60000]\n",
      "loss: 0.223583 [12864/60000]\n",
      "loss: 0.261995 [19264/60000]\n",
      "loss: 0.349799 [25664/60000]\n",
      "loss: 0.308383 [32064/60000]\n",
      "loss: 0.228426 [38464/60000]\n",
      "loss: 0.383189 [44864/60000]\n",
      "loss: 0.329723 [51264/60000]\n",
      "loss: 0.344420 [57664/60000]\n",
      "test accuracy \n",
      " accuracy 86.2%, avg_loss: 0.000965\n",
      "\n",
      "Epoch 5\n",
      "-------------------------------\n",
      "loss: 0.235291 [   64/60000]\n",
      "loss: 0.289168 [ 6464/60000]\n",
      "loss: 0.223552 [12864/60000]\n",
      "loss: 0.259905 [19264/60000]\n",
      "loss: 0.318083 [25664/60000]\n",
      "loss: 0.269419 [32064/60000]\n",
      "loss: 0.229594 [38464/60000]\n",
      "loss: 0.341501 [44864/60000]\n",
      "loss: 0.283597 [51264/60000]\n",
      "loss: 0.389480 [57664/60000]\n",
      "test accuracy \n",
      " accuracy 87.3%, avg_loss: 0.001224\n",
      "\n",
      "Epoch 6\n",
      "-------------------------------\n",
      "loss: 0.170473 [   64/60000]\n",
      "loss: 0.286317 [ 6464/60000]\n",
      "loss: 0.197069 [12864/60000]\n",
      "loss: 0.225786 [19264/60000]\n",
      "loss: 0.317500 [25664/60000]\n",
      "loss: 0.271172 [32064/60000]\n",
      "loss: 0.217570 [38464/60000]\n",
      "loss: 0.351076 [44864/60000]\n",
      "loss: 0.291217 [51264/60000]\n",
      "loss: 0.357264 [57664/60000]\n",
      "test accuracy \n",
      " accuracy 87.4%, avg_loss: 0.000633\n",
      "\n",
      "Epoch 7\n",
      "-------------------------------\n",
      "loss: 0.155884 [   64/60000]\n",
      "loss: 0.277582 [ 6464/60000]\n",
      "loss: 0.212670 [12864/60000]\n",
      "loss: 0.214719 [19264/60000]\n",
      "loss: 0.343375 [25664/60000]\n",
      "loss: 0.240057 [32064/60000]\n",
      "loss: 0.191833 [38464/60000]\n",
      "loss: 0.315246 [44864/60000]\n",
      "loss: 0.270914 [51264/60000]\n",
      "loss: 0.281488 [57664/60000]\n",
      "test accuracy \n",
      " accuracy 87.6%, avg_loss: 0.000675\n",
      "\n",
      "Epoch 8\n",
      "-------------------------------\n",
      "loss: 0.164117 [   64/60000]\n",
      "loss: 0.208758 [ 6464/60000]\n",
      "loss: 0.202223 [12864/60000]\n",
      "loss: 0.190844 [19264/60000]\n",
      "loss: 0.301943 [25664/60000]\n",
      "loss: 0.239333 [32064/60000]\n",
      "loss: 0.203927 [38464/60000]\n",
      "loss: 0.276601 [44864/60000]\n"
     ]
    }
   ],
   "source": [
    "epochs=8\n",
    "for t in range(epochs):\n",
    "    print(f\"Epoch {t+1}\\n-------------------------------\")\n",
    "    train(train_loader, model, lossfn, optimizer)\n",
    "    test(test_loader, model, lossfn)\n",
    "print(\"done\")"
   ]
  },
  {
   "cell_type": "code",
   "execution_count": 10,
   "id": "137724cf-0ae8-4532-8402-1f74312aeac7",
   "metadata": {},
   "outputs": [
    {
     "name": "stdout",
     "output_type": "stream",
     "text": [
      "Saved PyTorch Model State to model.pth\n"
     ]
    }
   ],
   "source": [
    "torch.save(model.state_dict(), \"model.pth\")\n",
    "print(\"Saved PyTorch Model State to model.pth\")"
   ]
  },
  {
   "cell_type": "code",
   "execution_count": 11,
   "id": "5ff45d72-31bc-48e5-a271-98bdd121db40",
   "metadata": {},
   "outputs": [
    {
     "data": {
      "text/plain": [
       "<All keys matched successfully>"
      ]
     },
     "execution_count": 11,
     "metadata": {},
     "output_type": "execute_result"
    }
   ],
   "source": [
    "model = NNetwork().to(device)\n",
    "model.load_state_dict(torch.load(\"model.pth\"))"
   ]
  },
  {
   "cell_type": "code",
   "execution_count": 16,
   "id": "2f48bdd7-b65a-4dc9-996d-119a85f4bb8c",
   "metadata": {},
   "outputs": [
    {
     "name": "stdout",
     "output_type": "stream",
     "text": [
      "Predicted: \"Pullover\", Actual: \"Coat\"\n"
     ]
    }
   ],
   "source": [
    "classes = [\n",
    "    \"T-shirt/top\",\n",
    "    \"Trouser\",\n",
    "    \"Pullover\",\n",
    "    \"Dress\",\n",
    "    \"Coat\",\n",
    "    \"Sandal\",\n",
    "    \"Shirt\",\n",
    "    \"Sneaker\",\n",
    "    \"Bag\",\n",
    "    \"Ankle boot\",\n",
    "]\n",
    "\n",
    "model.eval()\n",
    "x, y = test_data[10][0], test_data[10][1]\n",
    "with torch.no_grad():\n",
    "    x = x.to(device)\n",
    "    pred = model(x)\n",
    "    predicted, actual = classes[pred[0].argmax(0)], classes[y]\n",
    "    print(f'Predicted: \"{predicted}\", Actual: \"{actual}\"')"
   ]
  },
  {
   "cell_type": "code",
   "execution_count": null,
   "id": "a603f5c2-3335-4820-a38e-58fe683bb58f",
   "metadata": {},
   "outputs": [],
   "source": []
  }
 ],
 "metadata": {
  "kernelspec": {
   "display_name": "Python 3 (ipykernel)",
   "language": "python",
   "name": "python3"
  },
  "language_info": {
   "codemirror_mode": {
    "name": "ipython",
    "version": 3
   },
   "file_extension": ".py",
   "mimetype": "text/x-python",
   "name": "python",
   "nbconvert_exporter": "python",
   "pygments_lexer": "ipython3",
   "version": "3.12.3"
  }
 },
 "nbformat": 4,
 "nbformat_minor": 5
}
